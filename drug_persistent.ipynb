{
 "cells": [
  {
   "cell_type": "markdown",
   "metadata": {},
   "source": [
    "# Problem Statement\n",
    "\n",
    "One of the challenge for all Pharmaceutical companies is to understand the persistency  of drug as per the physician prescription. \n",
    "\n",
    "With an objective to gather insights on the factors that are impacting the persistency, build a classification for the given dataset. \n",
    "Target Variable: Persistency_Flag\n",
    "Variable description is attached along with the data.\n",
    "Model Evaluation:"
   ]
  },
  {
   "cell_type": "code",
   "execution_count": 102,
   "metadata": {
    "scrolled": true
   },
   "outputs": [
    {
     "name": "stdout",
     "output_type": "stream",
     "text": [
      "(3424, 69) \n",
      " \n",
      " ************************************************** \n",
      "\n",
      "<class 'pandas.core.frame.DataFrame'>\n",
      "RangeIndex: 3424 entries, 0 to 3423\n",
      "Data columns (total 69 columns):\n",
      "Ptid                                                                  3424 non-null object\n",
      "Persistency_Flag                                                      3424 non-null object\n",
      "Gender                                                                3424 non-null object\n",
      "Race                                                                  3424 non-null object\n",
      "Ethnicity                                                             3424 non-null object\n",
      "Region                                                                3424 non-null object\n",
      "Age_Bucket                                                            3424 non-null object\n",
      "Ntm_Speciality                                                        3424 non-null object\n",
      "Ntm_Specialist_Flag                                                   3424 non-null object\n",
      "Ntm_Speciality_Bucket                                                 3424 non-null object\n",
      "Gluco_Record_Prior_Ntm                                                3424 non-null object\n",
      "Gluco_Record_During_Rx                                                3424 non-null object\n",
      "Dexa_Freq_During_Rx                                                   3424 non-null int64\n",
      "Dexa_During_Rx                                                        3424 non-null object\n",
      "Frag_Frac_Prior_Ntm                                                   3424 non-null object\n",
      "Frag_Frac_During_Rx                                                   3424 non-null object\n",
      "Risk_Segment_Prior_Ntm                                                3424 non-null object\n",
      "Tscore_Bucket_Prior_Ntm                                               3424 non-null object\n",
      "Risk_Segment_During_Rx                                                3424 non-null object\n",
      "Tscore_Bucket_During_Rx                                               3424 non-null object\n",
      "Change_T_Score                                                        3424 non-null object\n",
      "Change_Risk_Segment                                                   3424 non-null object\n",
      "Adherent_Flag                                                         3424 non-null object\n",
      "Idn_Indicator                                                         3424 non-null object\n",
      "Injectable_Experience_During_Rx                                       3424 non-null object\n",
      "Comorb_Encounter_For_Screening_For_Malignant_Neoplasms                3424 non-null object\n",
      "Comorb_Encounter_For_Immunization                                     3424 non-null object\n",
      "Comorb_Encntr_For_General_Exam_W_O_Complaint,_Susp_Or_Reprtd_Dx       3424 non-null object\n",
      "Comorb_Vitamin_D_Deficiency                                           3424 non-null object\n",
      "Comorb_Other_Joint_Disorder_Not_Elsewhere_Classified                  3424 non-null object\n",
      "Comorb_Encntr_For_Oth_Sp_Exam_W_O_Complaint_Suspected_Or_Reprtd_Dx    3424 non-null object\n",
      "Comorb_Long_Term_Current_Drug_Therapy                                 3424 non-null object\n",
      "Comorb_Dorsalgia                                                      3424 non-null object\n",
      "Comorb_Personal_History_Of_Other_Diseases_And_Conditions              3424 non-null object\n",
      "Comorb_Other_Disorders_Of_Bone_Density_And_Structure                  3424 non-null object\n",
      "Comorb_Disorders_of_lipoprotein_metabolism_and_other_lipidemias       3424 non-null object\n",
      "Comorb_Osteoporosis_without_current_pathological_fracture             3424 non-null object\n",
      "Comorb_Personal_history_of_malignant_neoplasm                         3424 non-null object\n",
      "Comorb_Gastro_esophageal_reflux_disease                               3424 non-null object\n",
      "Concom_Cholesterol_And_Triglyceride_Regulating_Preparations           3424 non-null object\n",
      "Concom_Narcotics                                                      3424 non-null object\n",
      "Concom_Systemic_Corticosteroids_Plain                                 3424 non-null object\n",
      "Concom_Anti_Depressants_And_Mood_Stabilisers                          3424 non-null object\n",
      "Concom_Fluoroquinolones                                               3424 non-null object\n",
      "Concom_Cephalosporins                                                 3424 non-null object\n",
      "Concom_Macrolides_And_Similar_Types                                   3424 non-null object\n",
      "Concom_Broad_Spectrum_Penicillins                                     3424 non-null object\n",
      "Concom_Anaesthetics_General                                           3424 non-null object\n",
      "Concom_Viral_Vaccines                                                 3424 non-null object\n",
      "Risk_Type_1_Insulin_Dependent_Diabetes                                3424 non-null object\n",
      "Risk_Osteogenesis_Imperfecta                                          3424 non-null object\n",
      "Risk_Rheumatoid_Arthritis                                             3424 non-null object\n",
      "Risk_Untreated_Chronic_Hyperthyroidism                                3424 non-null object\n",
      "Risk_Untreated_Chronic_Hypogonadism                                   3424 non-null object\n",
      "Risk_Untreated_Early_Menopause                                        3424 non-null object\n",
      "Risk_Patient_Parent_Fractured_Their_Hip                               3424 non-null object\n",
      "Risk_Smoking_Tobacco                                                  3424 non-null object\n",
      "Risk_Chronic_Malnutrition_Or_Malabsorption                            3424 non-null object\n",
      "Risk_Chronic_Liver_Disease                                            3424 non-null object\n",
      "Risk_Family_History_Of_Osteoporosis                                   3424 non-null object\n",
      "Risk_Low_Calcium_Intake                                               3424 non-null object\n",
      "Risk_Vitamin_D_Insufficiency                                          3424 non-null object\n",
      "Risk_Poor_Health_Frailty                                              3424 non-null object\n",
      "Risk_Excessive_Thinness                                               3424 non-null object\n",
      "Risk_Hysterectomy_Oophorectomy                                        3424 non-null object\n",
      "Risk_Estrogen_Deficiency                                              3424 non-null object\n",
      "Risk_Immobilization                                                   3424 non-null object\n",
      "Risk_Recurring_Falls                                                  3424 non-null object\n",
      "Count_Of_Risks                                                        3424 non-null int64\n",
      "dtypes: int64(2), object(67)\n",
      "memory usage: 1.8+ MB\n",
      "None\n"
     ]
    }
   ],
   "source": [
    "import numpy as np\n",
    "import pandas as pd\n",
    "import matplotlib.pyplot as plt\n",
    "import seaborn as sns\n",
    "\n",
    "data = pd.read_excel('Case Study Data scientist Challenge_dataset_Persistent_Non_Persistent (1).xlsx','Dataset')\n",
    "print(data.shape, \"\\n\", \"\\n\", 50 * '*',\"\\n\")\n",
    "print(data.info())\n"
   ]
  },
  {
   "cell_type": "markdown",
   "metadata": {},
   "source": [
    "** There are overall 69 variables in which are 2 numerical variables (Count_Of_Risks, Dexa_Freq_During_Rx) and 67 categorical variables. Target variable is Persistency_Flag (categorical variable) **"
   ]
  },
  {
   "cell_type": "code",
   "execution_count": 103,
   "metadata": {},
   "outputs": [
    {
     "name": "stdout",
     "output_type": "stream",
     "text": [
      "Null values in data :  \n",
      " Ptid                                                               0\n",
      "Persistency_Flag                                                   0\n",
      "Gender                                                             0\n",
      "Race                                                               0\n",
      "Ethnicity                                                          0\n",
      "Region                                                             0\n",
      "Age_Bucket                                                         0\n",
      "Ntm_Speciality                                                     0\n",
      "Ntm_Specialist_Flag                                                0\n",
      "Ntm_Speciality_Bucket                                              0\n",
      "Gluco_Record_Prior_Ntm                                             0\n",
      "Gluco_Record_During_Rx                                             0\n",
      "Dexa_Freq_During_Rx                                                0\n",
      "Dexa_During_Rx                                                     0\n",
      "Frag_Frac_Prior_Ntm                                                0\n",
      "Frag_Frac_During_Rx                                                0\n",
      "Risk_Segment_Prior_Ntm                                             0\n",
      "Tscore_Bucket_Prior_Ntm                                            0\n",
      "Risk_Segment_During_Rx                                             0\n",
      "Tscore_Bucket_During_Rx                                            0\n",
      "Change_T_Score                                                     0\n",
      "Change_Risk_Segment                                                0\n",
      "Adherent_Flag                                                      0\n",
      "Idn_Indicator                                                      0\n",
      "Injectable_Experience_During_Rx                                    0\n",
      "Comorb_Encounter_For_Screening_For_Malignant_Neoplasms             0\n",
      "Comorb_Encounter_For_Immunization                                  0\n",
      "Comorb_Encntr_For_General_Exam_W_O_Complaint,_Susp_Or_Reprtd_Dx    0\n",
      "Comorb_Vitamin_D_Deficiency                                        0\n",
      "Comorb_Other_Joint_Disorder_Not_Elsewhere_Classified               0\n",
      "                                                                  ..\n",
      "Concom_Cholesterol_And_Triglyceride_Regulating_Preparations        0\n",
      "Concom_Narcotics                                                   0\n",
      "Concom_Systemic_Corticosteroids_Plain                              0\n",
      "Concom_Anti_Depressants_And_Mood_Stabilisers                       0\n",
      "Concom_Fluoroquinolones                                            0\n",
      "Concom_Cephalosporins                                              0\n",
      "Concom_Macrolides_And_Similar_Types                                0\n",
      "Concom_Broad_Spectrum_Penicillins                                  0\n",
      "Concom_Anaesthetics_General                                        0\n",
      "Concom_Viral_Vaccines                                              0\n",
      "Risk_Type_1_Insulin_Dependent_Diabetes                             0\n",
      "Risk_Osteogenesis_Imperfecta                                       0\n",
      "Risk_Rheumatoid_Arthritis                                          0\n",
      "Risk_Untreated_Chronic_Hyperthyroidism                             0\n",
      "Risk_Untreated_Chronic_Hypogonadism                                0\n",
      "Risk_Untreated_Early_Menopause                                     0\n",
      "Risk_Patient_Parent_Fractured_Their_Hip                            0\n",
      "Risk_Smoking_Tobacco                                               0\n",
      "Risk_Chronic_Malnutrition_Or_Malabsorption                         0\n",
      "Risk_Chronic_Liver_Disease                                         0\n",
      "Risk_Family_History_Of_Osteoporosis                                0\n",
      "Risk_Low_Calcium_Intake                                            0\n",
      "Risk_Vitamin_D_Insufficiency                                       0\n",
      "Risk_Poor_Health_Frailty                                           0\n",
      "Risk_Excessive_Thinness                                            0\n",
      "Risk_Hysterectomy_Oophorectomy                                     0\n",
      "Risk_Estrogen_Deficiency                                           0\n",
      "Risk_Immobilization                                                0\n",
      "Risk_Recurring_Falls                                               0\n",
      "Count_Of_Risks                                                     0\n",
      "Length: 69, dtype: int64\n"
     ]
    }
   ],
   "source": [
    "print(\"Null values in data : \" , \"\\n\", data.isnull().sum())"
   ]
  },
  {
   "cell_type": "markdown",
   "metadata": {},
   "source": [
    "** There are no null values in the dataset **"
   ]
  },
  {
   "cell_type": "code",
   "execution_count": 104,
   "metadata": {},
   "outputs": [
    {
     "name": "stdout",
     "output_type": "stream",
     "text": [
      "Non-Persistent    2135\n",
      "Persistent        1289\n",
      "Name: Persistency_Flag, dtype: int64\n"
     ]
    },
    {
     "data": {
      "image/png": "[encoded data removed]",
      "text/plain": [
       "<Figure size 432x288 with 1 Axes>"
      ]
     },
     "metadata": {},
     "output_type": "display_data"
    }
   ],
   "source": [
    "cases_count = data.Persistency_Flag.value_counts()\n",
    "print(cases_count)\n",
    "\n",
    "# Plot the results \n",
    "plt.figure(figsize=(6,4))\n",
    "sns.barplot(x=cases_count.index, y= cases_count.values)\n",
    "plt.title('Number of Persistent', fontsize=14)\n",
    "plt.xlabel('Persistent Flag', fontsize=12)\n",
    "plt.ylabel('Count', fontsize=12)\n",
    "plt.xticks(range(len(cases_count.index)), ['Non-Persistent', 'Persistent'])\n",
    "plt.show()"
   ]
  },
  {
   "cell_type": "markdown",
   "metadata": {},
   "source": [
    "**As we can see data is highly imbalanced. This situation is very normal when it comes to medical data. **"
   ]
  },
  {
   "cell_type": "code",
   "execution_count": 105,
   "metadata": {},
   "outputs": [],
   "source": [
    "\n",
    "data_num = data[['Count_Of_Risks', 'Dexa_Freq_During_Rx']]"
   ]
  },
  {
   "cell_type": "code",
   "execution_count": 106,
   "metadata": {},
   "outputs": [],
   "source": [
    "\n",
    "df = data.drop(columns = ['Count_Of_Risks', 'Dexa_Freq_During_Rx'])"
   ]
  },
  {
   "cell_type": "code",
   "execution_count": 107,
   "metadata": {},
   "outputs": [],
   "source": [
    "from sklearn.preprocessing import LabelEncoder\n",
    "\n",
    "data_encoded = df.apply(LabelEncoder().fit_transform)\n"
   ]
  },
  {
   "cell_type": "code",
   "execution_count": 108,
   "metadata": {},
   "outputs": [
    {
     "name": "stdout",
     "output_type": "stream",
     "text": [
      "   Ptid  Persistency_Flag  Gender  Race  Ethnicity  Region  Age_Bucket  \\\n",
      "0     0                 1       1     2          1       4           3   \n",
      "1  1111                 0       1     1          1       4           0   \n",
      "2  2222                 0       0     3          0       0           1   \n",
      "3  2758                 0       0     2          1       0           3   \n",
      "4  2869                 0       0     2          1       0           3   \n",
      "\n",
      "   Ntm_Speciality  Ntm_Specialist_Flag  Ntm_Speciality_Bucket  \\\n",
      "0               5                    0                      1   \n",
      "1               5                    0                      1   \n",
      "2               5                    0                      1   \n",
      "3               5                    0                      1   \n",
      "4               5                    0                      1   \n",
      "\n",
      "           ...           Risk_Chronic_Liver_Disease  \\\n",
      "0          ...                                    0   \n",
      "1          ...                                    0   \n",
      "2          ...                                    0   \n",
      "3          ...                                    0   \n",
      "4          ...                                    0   \n",
      "\n",
      "   Risk_Family_History_Of_Osteoporosis  Risk_Low_Calcium_Intake  \\\n",
      "0                                    0                        0   \n",
      "1                                    0                        0   \n",
      "2                                    0                        1   \n",
      "3                                    0                        0   \n",
      "4                                    0                        0   \n",
      "\n",
      "   Risk_Vitamin_D_Insufficiency  Risk_Poor_Health_Frailty  \\\n",
      "0                             0                         0   \n",
      "1                             0                         0   \n",
      "2                             0                         0   \n",
      "3                             0                         0   \n",
      "4                             0                         0   \n",
      "\n",
      "   Risk_Excessive_Thinness  Risk_Hysterectomy_Oophorectomy  \\\n",
      "0                        0                               0   \n",
      "1                        0                               0   \n",
      "2                        0                               0   \n",
      "3                        0                               0   \n",
      "4                        0                               0   \n",
      "\n",
      "   Risk_Estrogen_Deficiency  Risk_Immobilization  Risk_Recurring_Falls  \n",
      "0                         0                    0                     0  \n",
      "1                         0                    0                     0  \n",
      "2                         0                    0                     0  \n",
      "3                         0                    0                     0  \n",
      "4                         0                    0                     0  \n",
      "\n",
      "[5 rows x 67 columns]\n"
     ]
    }
   ],
   "source": [
    "print(data_encoded.head())"
   ]
  },
  {
   "cell_type": "code",
   "execution_count": 109,
   "metadata": {},
   "outputs": [
    {
     "name": "stdout",
     "output_type": "stream",
     "text": [
      "   Count_Of_Risks  Dexa_Freq_During_Rx  Ptid  Persistency_Flag  Gender  Race  \\\n",
      "0               0                    0     0                 1       1     2   \n",
      "1               0                    0  1111                 0       1     1   \n",
      "2               2                    0  2222                 0       0     3   \n",
      "3               1                    0  2758                 0       0     2   \n",
      "4               1                    0  2869                 0       0     2   \n",
      "\n",
      "   Ethnicity  Region  Age_Bucket  Ntm_Speciality          ...           \\\n",
      "0          1       4           3               5          ...            \n",
      "1          1       4           0               5          ...            \n",
      "2          0       0           1               5          ...            \n",
      "3          1       0           3               5          ...            \n",
      "4          1       0           3               5          ...            \n",
      "\n",
      "   Risk_Chronic_Liver_Disease  Risk_Family_History_Of_Osteoporosis  \\\n",
      "0                           0                                    0   \n",
      "1                           0                                    0   \n",
      "2                           0                                    0   \n",
      "3                           0                                    0   \n",
      "4                           0                                    0   \n",
      "\n",
      "   Risk_Low_Calcium_Intake  Risk_Vitamin_D_Insufficiency  \\\n",
      "0                        0                             0   \n",
      "1                        0                             0   \n",
      "2                        1                             0   \n",
      "3                        0                             0   \n",
      "4                        0                             0   \n",
      "\n",
      "   Risk_Poor_Health_Frailty  Risk_Excessive_Thinness  \\\n",
      "0                         0                        0   \n",
      "1                         0                        0   \n",
      "2                         0                        0   \n",
      "3                         0                        0   \n",
      "4                         0                        0   \n",
      "\n",
      "   Risk_Hysterectomy_Oophorectomy  Risk_Estrogen_Deficiency  \\\n",
      "0                               0                         0   \n",
      "1                               0                         0   \n",
      "2                               0                         0   \n",
      "3                               0                         0   \n",
      "4                               0                         0   \n",
      "\n",
      "   Risk_Immobilization  Risk_Recurring_Falls  \n",
      "0                    0                     0  \n",
      "1                    0                     0  \n",
      "2                    0                     0  \n",
      "3                    0                     0  \n",
      "4                    0                     0  \n",
      "\n",
      "[5 rows x 69 columns]\n"
     ]
    }
   ],
   "source": [
    "# Concat encoded variables with existed numerical variables\n",
    "\n",
    "df_final = pd.concat([data_num, data_encoded], axis = 1)\n",
    "print(df_final.head())\n"
   ]
  },
  {
   "cell_type": "code",
   "execution_count": 110,
   "metadata": {},
   "outputs": [
    {
     "name": "stdout",
     "output_type": "stream",
     "text": [
      "(3424, 68) \n",
      " (3424,)\n"
     ]
    }
   ],
   "source": [
    "X = df_final.drop(columns=['Persistency_Flag'])   # independent variables\n",
    "y = df_final['Persistency_Flag']      # dependent variable\n",
    "print(X.shape, \"\\n\", y.shape)"
   ]
  },
  {
   "cell_type": "code",
   "execution_count": 111,
   "metadata": {},
   "outputs": [
    {
     "name": "stdout",
     "output_type": "stream",
     "text": [
      "X_train dataset shape:  (2294, 68)\n",
      "y_train dataset shape:  (2294,)\n",
      "X_test dataset shape:  (1130, 68)\n",
      "y_test dataset shape:  (1130,)\n"
     ]
    }
   ],
   "source": [
    "from sklearn.model_selection import train_test_split \n",
    "  \n",
    "# split data into train and test\n",
    "X_train, X_test, y_train, y_test = train_test_split(X, y, test_size = 0.33, random_state = 42) \n",
    "  \n",
    "# describes info about train and test set \n",
    "print(\"X_train dataset shape: \", X_train.shape) \n",
    "print(\"y_train dataset shape: \", y_train.shape) \n",
    "print(\"X_test dataset shape: \", X_test.shape) \n",
    "print(\"y_test dataset shape: \", y_test.shape) "
   ]
  },
  {
   "cell_type": "markdown",
   "metadata": {},
   "source": [
    "### Now train the model without handling the imbalanced class distribution \n"
   ]
  },
  {
   "cell_type": "code",
   "execution_count": 112,
   "metadata": {},
   "outputs": [
    {
     "name": "stdout",
     "output_type": "stream",
     "text": [
      "              precision    recall  f1-score   support\n",
      "\n",
      "           0       0.82      0.87      0.85       709\n",
      "           1       0.76      0.69      0.72       421\n",
      "\n",
      "    accuracy                           0.80      1130\n",
      "   macro avg       0.79      0.78      0.78      1130\n",
      "weighted avg       0.80      0.80      0.80      1130\n",
      "\n"
     ]
    },
    {
     "name": "stderr",
     "output_type": "stream",
     "text": [
      "/home/brt/anaconda3/lib/python3.6/site-packages/sklearn/linear_model/_logistic.py:939: ConvergenceWarning: lbfgs failed to converge (status=1):\n",
      "STOP: TOTAL NO. of ITERATIONS REACHED LIMIT.\n",
      "\n",
      "Increase the number of iterations (max_iter) or scale the data as shown in:\n",
      "    https://scikit-learn.org/stable/modules/preprocessing.html.\n",
      "Please also refer to the documentation for alternative solver options:\n",
      "    https://scikit-learn.org/stable/modules/linear_model.html#logistic-regression\n",
      "  extra_warning_msg=_LOGISTIC_SOLVER_CONVERGENCE_MSG)\n"
     ]
    }
   ],
   "source": [
    "# logistic regression object \n",
    "\n",
    "from sklearn.linear_model import LogisticRegression\n",
    "from sklearn.metrics import confusion_matrix, classification_report \n",
    "\n",
    "\n",
    "lr = LogisticRegression() \n",
    "\n",
    "# train the model on train set \n",
    "lr.fit(X_train, y_train.ravel()) \n",
    "\n",
    "predictions = lr.predict(X_test) \n",
    "\n",
    "# print classification report \n",
    "print(classification_report(y_test, predictions)) \n"
   ]
  },
  {
   "cell_type": "markdown",
   "metadata": {},
   "source": [
    "### Using SMOTE Algorithm to oversample the minority class "
   ]
  },
  {
   "cell_type": "code",
   "execution_count": 113,
   "metadata": {},
   "outputs": [
    {
     "name": "stdout",
     "output_type": "stream",
     "text": [
      "Before OverSampling, counts of label '1': 868\n",
      "Before OverSampling, counts of label '0': 1426 \n",
      "\n",
      "After OverSampling, the shape of train_X: (2852, 68)\n",
      "After OverSampling, the shape of train_y: (2852,) \n",
      "\n",
      "After OverSampling, counts of label '1': 1426\n",
      "After OverSampling, counts of label '0': 1426\n"
     ]
    }
   ],
   "source": [
    "print(\"Before OverSampling, counts of label '1': {}\".format(sum(y_train == 1))) \n",
    "print(\"Before OverSampling, counts of label '0': {} \\n\".format(sum(y_train == 0))) \n",
    "\n",
    "# import SMOTE module from imblearn library \n",
    "from imblearn.over_sampling import SMOTE \n",
    "sm = SMOTE(random_state = 2) \n",
    "X_train_res, y_train_res = sm.fit_sample(X_train, y_train.ravel()) \n",
    "\n",
    "print('After OverSampling, the shape of train_X: {}'.format(X_train_res.shape)) \n",
    "print('After OverSampling, the shape of train_y: {} \\n'.format(y_train_res.shape)) \n",
    "\n",
    "print(\"After OverSampling, counts of label '1': {}\".format(sum(y_train_res == 1))) \n",
    "print(\"After OverSampling, counts of label '0': {}\".format(sum(y_train_res == 0))) \n"
   ]
  },
  {
   "cell_type": "code",
   "execution_count": 114,
   "metadata": {},
   "outputs": [
    {
     "name": "stdout",
     "output_type": "stream",
     "text": [
      "              precision    recall  f1-score   support\n",
      "\n",
      "           0       0.85      0.76      0.81       709\n",
      "           1       0.66      0.78      0.72       421\n",
      "\n",
      "    accuracy                           0.77      1130\n",
      "   macro avg       0.76      0.77      0.76      1130\n",
      "weighted avg       0.78      0.77      0.77      1130\n",
      "\n"
     ]
    },
    {
     "name": "stderr",
     "output_type": "stream",
     "text": [
      "/home/brt/anaconda3/lib/python3.6/site-packages/sklearn/linear_model/_logistic.py:939: ConvergenceWarning: lbfgs failed to converge (status=1):\n",
      "STOP: TOTAL NO. of ITERATIONS REACHED LIMIT.\n",
      "\n",
      "Increase the number of iterations (max_iter) or scale the data as shown in:\n",
      "    https://scikit-learn.org/stable/modules/preprocessing.html.\n",
      "Please also refer to the documentation for alternative solver options:\n",
      "    https://scikit-learn.org/stable/modules/linear_model.html#logistic-regression\n",
      "  extra_warning_msg=_LOGISTIC_SOLVER_CONVERGENCE_MSG)\n"
     ]
    }
   ],
   "source": [
    "lr1 = LogisticRegression() \n",
    "lr1.fit(X_train_res, y_train_res.ravel()) \n",
    "predictions = lr1.predict(X_test) \n",
    "\n",
    "# print classification report \n",
    "print(classification_report(y_test, predictions)) \n"
   ]
  },
  {
   "cell_type": "markdown",
   "metadata": {},
   "source": [
    "### Using NearMiss Algorithm to downsample majority class "
   ]
  },
  {
   "cell_type": "code",
   "execution_count": 115,
   "metadata": {},
   "outputs": [
    {
     "name": "stdout",
     "output_type": "stream",
     "text": [
      "Before Undersampling, counts of label '1': 868\n",
      "Before Undersampling, counts of label '0': 1426 \n",
      "\n",
      "After Undersampling, the shape of train_X: (1736, 68)\n",
      "After Undersampling, the shape of train_y: (1736,) \n",
      "\n",
      "After Undersampling, counts of label '1': 868\n",
      "After Undersampling, counts of label '0': 868\n"
     ]
    }
   ],
   "source": [
    "print(\"Before Undersampling, counts of label '1': {}\".format(sum(y_train == 1))) \n",
    "print(\"Before Undersampling, counts of label '0': {} \\n\".format(sum(y_train == 0))) \n",
    "\n",
    "# apply near miss \n",
    "from imblearn.under_sampling import NearMiss \n",
    "nr = NearMiss() \n",
    "\n",
    "X_train_miss, y_train_miss = nr.fit_sample(X_train, y_train.ravel()) \n",
    "\n",
    "print('After Undersampling, the shape of train_X: {}'.format(X_train_miss.shape)) \n",
    "print('After Undersampling, the shape of train_y: {} \\n'.format(y_train_miss.shape)) \n",
    "\n",
    "print(\"After Undersampling, counts of label '1': {}\".format(sum(y_train_miss == 1))) \n",
    "print(\"After Undersampling, counts of label '0': {}\".format(sum(y_train_miss == 0))) \n"
   ]
  },
  {
   "cell_type": "code",
   "execution_count": 116,
   "metadata": {},
   "outputs": [
    {
     "name": "stdout",
     "output_type": "stream",
     "text": [
      "              precision    recall  f1-score   support\n",
      "\n",
      "           0       0.85      0.79      0.82       709\n",
      "           1       0.68      0.77      0.72       421\n",
      "\n",
      "    accuracy                           0.78      1130\n",
      "   macro avg       0.77      0.78      0.77      1130\n",
      "weighted avg       0.79      0.78      0.78      1130\n",
      "\n"
     ]
    },
    {
     "name": "stderr",
     "output_type": "stream",
     "text": [
      "/home/brt/anaconda3/lib/python3.6/site-packages/sklearn/linear_model/_logistic.py:939: ConvergenceWarning: lbfgs failed to converge (status=1):\n",
      "STOP: TOTAL NO. of ITERATIONS REACHED LIMIT.\n",
      "\n",
      "Increase the number of iterations (max_iter) or scale the data as shown in:\n",
      "    https://scikit-learn.org/stable/modules/preprocessing.html.\n",
      "Please also refer to the documentation for alternative solver options:\n",
      "    https://scikit-learn.org/stable/modules/linear_model.html#logistic-regression\n",
      "  extra_warning_msg=_LOGISTIC_SOLVER_CONVERGENCE_MSG)\n"
     ]
    }
   ],
   "source": [
    "# train the model on train set \n",
    "lr2 = LogisticRegression() \n",
    "lr2.fit(X_train_miss, y_train_miss.ravel()) \n",
    "predictions = lr2.predict(X_test) \n",
    "\n",
    "# print classification report \n",
    "print(classification_report(y_test, predictions)) \n"
   ]
  },
  {
   "cell_type": "markdown",
   "metadata": {},
   "source": [
    "** As nearmiss algorithm downsampling technique giving better performance (Accuracy & F1 Score) than SMOTE. I will use dowsample data for other models and selec the model with the best overall performance at the end. **"
   ]
  },
  {
   "cell_type": "code",
   "execution_count": 117,
   "metadata": {},
   "outputs": [],
   "source": [
    "labels=['Non-Persistent', 'Persistent']\n"
   ]
  },
  {
   "cell_type": "markdown",
   "metadata": {},
   "source": [
    "### Function to plot the confusion matrix\n",
    " "
   ]
  },
  {
   "cell_type": "code",
   "execution_count": 118,
   "metadata": {},
   "outputs": [],
   "source": [
    "from sklearn.metrics import confusion_matrix\n",
    "import itertools\n",
    "\n",
    "def plot_confusion_matrix(cm, classes,\n",
    "                          normalize=False,\n",
    "                          title='Confusion matrix',\n",
    "                          cmap=plt.cm.Oranges):\n",
    "    \"\"\"\n",
    "    This function prints and plots the confusion matrix.\n",
    "    Normalization can be applied by setting `normalize=True`.\n",
    "    Source: http://scikit-learn.org/stable/auto_examples/model_selection/plot_confusion_matrix.html\n",
    "    \"\"\"\n",
    "    if normalize:\n",
    "        cm = cm.astype('float') / cm.sum(axis=1)[:, np.newaxis]\n",
    "        print(\"Normalized confusion matrix\")\n",
    "    else:\n",
    "        print('Confusion matrix, without normalization')\n",
    "\n",
    "    print(cm)\n",
    "\n",
    "    plt.figure(figsize = (8, 8))\n",
    "    plt.imshow(cm, interpolation='nearest', cmap=cmap)\n",
    "    plt.title(title, size = 22)\n",
    "    plt.colorbar(aspect=4)\n",
    "    tick_marks = np.arange(len(classes))\n",
    "    plt.xticks(tick_marks, classes, rotation=45, size = 14)\n",
    "    plt.yticks(tick_marks, classes, size = 14)\n",
    "\n",
    "    fmt = '.2f' if normalize else 'd'\n",
    "    thresh = cm.max() / 2.\n",
    "    \n",
    "    # Labeling the plot\n",
    "    for i, j in itertools.product(range(cm.shape[0]), range(cm.shape[1])):\n",
    "        plt.text(j, i, format(cm[i, j], fmt), fontsize = 20,\n",
    "                 horizontalalignment=\"center\",\n",
    "                 color=\"white\" if cm[i, j] > thresh else \"black\")\n",
    "        \n",
    "    plt.grid(None)\n",
    "    plt.tight_layout()\n",
    "    plt.ylabel('True label', size = 18)\n",
    "    plt.xlabel('Predicted label', size = 18)"
   ]
  },
  {
   "cell_type": "markdown",
   "metadata": {},
   "source": [
    "### Generic function to run any model specified "
   ]
  },
  {
   "cell_type": "code",
   "execution_count": 119,
   "metadata": {},
   "outputs": [],
   "source": [
    "from datetime import datetime\n",
    "def perform_model(model, X_train_miss, y_train_miss, X_test, y_test, class_labels, cm_normalize=True, \\\n",
    "                 print_cm=True, cm_cmap=plt.cm.Greens):\n",
    "    \n",
    "    \n",
    "    # to store results at various phases\n",
    "    results = dict()\n",
    "    \n",
    "    # time at which model starts training \n",
    "    train_start_time = datetime.now()\n",
    "    print('training the model..')\n",
    "    model.fit(X_train_miss, y_train_miss)\n",
    "    print('Done \\n \\n')\n",
    "    train_end_time = datetime.now()\n",
    "    results['training_time'] =  train_end_time - train_start_time\n",
    "    print('training_time(HH:MM:SS.ms) - {}\\n\\n'.format(results['training_time']))\n",
    "    \n",
    "    \n",
    "    # predict test data\n",
    "    print('Predicting test data')\n",
    "    test_start_time = datetime.now()\n",
    "    y_pred = model.predict(X_test)\n",
    "    test_end_time = datetime.now()\n",
    "    print('Done \\n \\n')\n",
    "    results['testing_time'] = test_end_time - test_start_time\n",
    "    print('testing time(HH:MM:SS:ms) - {}\\n\\n'.format(results['testing_time']))\n",
    "    results['predicted'] = y_pred\n",
    "   \n",
    "\n",
    "    # calculate overall accuracty of the model\n",
    "    accuracy = metrics.accuracy_score(y_true=y_test, y_pred=y_pred)\n",
    "    # store accuracy in results\n",
    "    results['accuracy'] = accuracy\n",
    "    print('---------------------')\n",
    "    print('|      Accuracy      |')\n",
    "    print('---------------------')\n",
    "    print('\\n    {}\\n\\n'.format(accuracy))\n",
    "    \n",
    "    \n",
    "    # confusion matrix\n",
    "    cm = metrics.confusion_matrix(y_test, y_pred)\n",
    "    results['confusion_matrix'] = cm\n",
    "    if print_cm: \n",
    "        print('--------------------')\n",
    "        print('| Confusion Matrix |')\n",
    "        print('--------------------')\n",
    "        print('\\n {}'.format(cm))\n",
    "        \n",
    "    # plot confusin matrix\n",
    "    plt.figure(figsize=(8,8))\n",
    "    plt.grid(b=False)\n",
    "    plot_confusion_matrix(cm, classes=class_labels, normalize=True, title='Normalized confusion matrix', cmap = cm_cmap)\n",
    "    plt.show()\n",
    "    \n",
    "    # get classification report\n",
    "    print('-------------------------')\n",
    "    print('| Classification Report |')\n",
    "    print('-------------------------')\n",
    "    classification_report = metrics.classification_report(y_test, y_pred)\n",
    "    # store report in results\n",
    "    results['classification_report'] = classification_report\n",
    "    print(classification_report)\n",
    "    \n",
    "    # add the trained  model to the results\n",
    "    results['model'] = model\n",
    "    \n",
    "    return results"
   ]
  },
  {
   "cell_type": "markdown",
   "metadata": {},
   "source": [
    "### Method to print the gridsearch Attributes "
   ]
  },
  {
   "cell_type": "code",
   "execution_count": 120,
   "metadata": {},
   "outputs": [],
   "source": [
    "def print_grid_search_attributes(model):\n",
    "    # Estimator that gave highest score among all the estimators formed in GridSearch\n",
    "    print('--------------------------')\n",
    "    print('|      Best Estimator     |')\n",
    "    print('--------------------------')\n",
    "    print('\\n\\t{}\\n'.format(model.best_estimator_))\n",
    "\n",
    "\n",
    "    # parameters that gave best results while performing grid search\n",
    "    print('--------------------------')\n",
    "    print('|     Best parameters     |')\n",
    "    print('--------------------------')\n",
    "    print('\\tParameters of best estimator : \\n\\n\\t{}\\n'.format(model.best_params_))\n",
    "\n",
    "\n",
    "    #  number of cross validation splits\n",
    "    print('---------------------------------')\n",
    "    print('|   No of CrossValidation sets   |')\n",
    "    print('--------------------------------')\n",
    "    print('\\n\\tTotal numbre of cross validation sets: {}\\n'.format(model.n_splits_))\n",
    "\n",
    "\n",
    "    # Average cross validated score of the best estimator, from the Grid Search \n",
    "    print('--------------------------')\n",
    "    print('|        Best Score       |')\n",
    "    print('--------------------------')\n",
    "    print('\\n\\tAverage Cross Validate scores of best estimator : \\n\\n\\t{}\\n'.format(model.best_score_))"
   ]
  },
  {
   "cell_type": "markdown",
   "metadata": {},
   "source": [
    "## Logistic Regression with Grid Search "
   ]
  },
  {
   "cell_type": "code",
   "execution_count": 121,
   "metadata": {},
   "outputs": [
    {
     "name": "stdout",
     "output_type": "stream",
     "text": [
      "training the model..\n",
      "Fitting 3 folds for each of 12 candidates, totalling 36 fits\n"
     ]
    },
    {
     "name": "stderr",
     "output_type": "stream",
     "text": [
      "[Parallel(n_jobs=-1)]: Using backend LokyBackend with 8 concurrent workers.\n"
     ]
    },
    {
     "name": "stdout",
     "output_type": "stream",
     "text": [
      "Done \n",
      " \n",
      "\n",
      "training_time(HH:MM:SS.ms) - 0:00:01.143828\n",
      "\n",
      "\n",
      "Predicting test data\n",
      "Done \n",
      " \n",
      "\n",
      "testing time(HH:MM:SS:ms) - 0:00:00.000877\n",
      "\n",
      "\n",
      "---------------------\n",
      "|      Accuracy      |\n",
      "---------------------\n",
      "\n",
      "    0.7787610619469026\n",
      "\n",
      "\n",
      "--------------------\n",
      "| Confusion Matrix |\n",
      "--------------------\n",
      "\n",
      " [[557 152]\n",
      " [ 98 323]]\n",
      "Normalized confusion matrix\n",
      "[[0.78561354 0.21438646]\n",
      " [0.2327791  0.7672209 ]]\n"
     ]
    },
    {
     "name": "stderr",
     "output_type": "stream",
     "text": [
      "[Parallel(n_jobs=-1)]: Done  36 out of  36 | elapsed:    1.1s finished\n",
      "/home/brt/anaconda3/lib/python3.6/site-packages/sklearn/linear_model/_logistic.py:939: ConvergenceWarning: lbfgs failed to converge (status=1):\n",
      "STOP: TOTAL NO. of ITERATIONS REACHED LIMIT.\n",
      "\n",
      "Increase the number of iterations (max_iter) or scale the data as shown in:\n",
      "    https://scikit-learn.org/stable/modules/preprocessing.html.\n",
      "Please also refer to the documentation for alternative solver options:\n",
      "    https://scikit-learn.org/stable/modules/linear_model.html#logistic-regression\n",
      "  extra_warning_msg=_LOGISTIC_SOLVER_CONVERGENCE_MSG)\n"
     ]
    },
    {
     "data": {
      "image/png": "[encoded data removed]",
      "text/plain": [
       "<Figure size 576x576 with 1 Axes>"
      ]
     },
     "metadata": {},
     "output_type": "display_data"
    },
    {
     "data": {
      "image/png": "[encoded data removed]",
      "text/plain": [
       "<Figure size 576x576 with 2 Axes>"
      ]
     },
     "metadata": {},
     "output_type": "display_data"
    },
    {
     "name": "stdout",
     "output_type": "stream",
     "text": [
      "-------------------------\n",
      "| Classification Report |\n",
      "-------------------------\n",
      "              precision    recall  f1-score   support\n",
      "\n",
      "           0       0.85      0.79      0.82       709\n",
      "           1       0.68      0.77      0.72       421\n",
      "\n",
      "    accuracy                           0.78      1130\n",
      "   macro avg       0.77      0.78      0.77      1130\n",
      "weighted avg       0.79      0.78      0.78      1130\n",
      "\n"
     ]
    }
   ],
   "source": [
    "from sklearn import linear_model\n",
    "from sklearn import metrics\n",
    "\n",
    "from sklearn.model_selection import GridSearchCV\n",
    "\n",
    "\n",
    "\n",
    "# start Grid search\n",
    "parameters = {'C':[0.01, 0.1, 1, 10, 20, 30], 'penalty':['l2','l1']}\n",
    "log_reg = linear_model.LogisticRegression()\n",
    "log_reg_grid = GridSearchCV(log_reg, param_grid=parameters, cv=3, verbose=1, n_jobs=-1)\n",
    "log_reg_grid_results =  perform_model(log_reg_grid, X_train_miss, y_train_miss, X_test, y_test, class_labels=labels)"
   ]
  },
  {
   "cell_type": "code",
   "execution_count": 122,
   "metadata": {},
   "outputs": [
    {
     "name": "stdout",
     "output_type": "stream",
     "text": [
      "--------------------------\n",
      "|      Best Estimator     |\n",
      "--------------------------\n",
      "\n",
      "\tLogisticRegression(C=1, class_weight=None, dual=False, fit_intercept=True,\n",
      "                   intercept_scaling=1, l1_ratio=None, max_iter=100,\n",
      "                   multi_class='auto', n_jobs=None, penalty='l2',\n",
      "                   random_state=None, solver='lbfgs', tol=0.0001, verbose=0,\n",
      "                   warm_start=False)\n",
      "\n",
      "--------------------------\n",
      "|     Best parameters     |\n",
      "--------------------------\n",
      "\tParameters of best estimator : \n",
      "\n",
      "\t{'C': 1, 'penalty': 'l2'}\n",
      "\n",
      "---------------------------------\n",
      "|   No of CrossValidation sets   |\n",
      "--------------------------------\n",
      "\n",
      "\tTotal numbre of cross validation sets: 3\n",
      "\n",
      "--------------------------\n",
      "|        Best Score       |\n",
      "--------------------------\n",
      "\n",
      "\tAverage Cross Validate scores of best estimator : \n",
      "\n",
      "\t0.8024036191739725\n",
      "\n"
     ]
    }
   ],
   "source": [
    "# observe the attributes of the model \n",
    "print_grid_search_attributes(log_reg_grid_results['model'])"
   ]
  },
  {
   "cell_type": "code",
   "execution_count": 123,
   "metadata": {},
   "outputs": [
    {
     "name": "stderr",
     "output_type": "stream",
     "text": [
      "/home/brt/anaconda3/lib/python3.6/site-packages/sklearn/linear_model/_logistic.py:939: ConvergenceWarning: lbfgs failed to converge (status=1):\n",
      "STOP: TOTAL NO. of ITERATIONS REACHED LIMIT.\n",
      "\n",
      "Increase the number of iterations (max_iter) or scale the data as shown in:\n",
      "    https://scikit-learn.org/stable/modules/preprocessing.html.\n",
      "Please also refer to the documentation for alternative solver options:\n",
      "    https://scikit-learn.org/stable/modules/linear_model.html#logistic-regression\n",
      "  extra_warning_msg=_LOGISTIC_SOLVER_CONVERGENCE_MSG)\n"
     ]
    }
   ],
   "source": [
    "# train the LR model on best parameters\n",
    "\n",
    "lr_model = LogisticRegression(C=1, class_weight=None, dual=False, fit_intercept=True,\n",
    "                   intercept_scaling=1, l1_ratio=None, max_iter=100,\n",
    "                   multi_class='auto', n_jobs=None, penalty='l2',\n",
    "                   random_state=None, solver='lbfgs', tol=0.0001, verbose=0,\n",
    "                   warm_start=False) \n",
    "lr_model.fit(X_train_miss, y_train_miss.ravel()) \n",
    "\n",
    "# Actual class predictions\n",
    "predictions = lr_model.predict(X_test) \n",
    "\n",
    "# Probabilities for each class\n",
    "lr_probs = lr_model.predict_proba(X_test)[:, 1]"
   ]
  },
  {
   "cell_type": "code",
   "execution_count": 124,
   "metadata": {},
   "outputs": [
    {
     "data": {
      "image/png": "[encoded data removed]",
      "text/plain": [
       "<Figure size 432x288 with 1 Axes>"
      ]
     },
     "metadata": {},
     "output_type": "display_data"
    }
   ],
   "source": [
    "import sklearn.metrics as metrics\n",
    "# calculate the fpr and tpr for all thresholds of the classification\n",
    "fpr, tpr, threshold = metrics.roc_curve(y_test, lr_probs)\n",
    "roc_auc = metrics.auc(fpr, tpr)\n",
    "\n",
    "# method I: plt\n",
    "import matplotlib.pyplot as plt\n",
    "plt.title('Receiver Operating Characteristic')\n",
    "plt.plot(fpr, tpr, 'b', label = 'AUC = %0.2f' % roc_auc)\n",
    "plt.legend(loc = 'lower right')\n",
    "plt.plot([0, 1], [0, 1],'r--')\n",
    "plt.xlim([0, 1])\n",
    "plt.ylim([0, 1])\n",
    "plt.ylabel('True Positive Rate')\n",
    "plt.xlabel('False Positive Rate')\n",
    "plt.show()"
   ]
  },
  {
   "cell_type": "code",
   "execution_count": 125,
   "metadata": {},
   "outputs": [
    {
     "name": "stdout",
     "output_type": "stream",
     "text": [
      "RoC-AuC Score :  0.86 \n",
      "\n"
     ]
    }
   ],
   "source": [
    "from sklearn.metrics import roc_auc_score\n",
    "\n",
    "# Calculate roc auc\n",
    "roc_value = roc_auc_score(y_test, lr_probs), \n",
    "print(\"RoC-AuC Score : \",float(\"%.2f\" %roc_value[0]), \"\\n\")"
   ]
  },
  {
   "cell_type": "markdown",
   "metadata": {},
   "source": [
    "## LinearSVC with Grid Search "
   ]
  },
  {
   "cell_type": "code",
   "execution_count": 126,
   "metadata": {},
   "outputs": [
    {
     "name": "stdout",
     "output_type": "stream",
     "text": [
      "training the model..\n",
      "Fitting 5 folds for each of 6 candidates, totalling 30 fits\n"
     ]
    },
    {
     "name": "stderr",
     "output_type": "stream",
     "text": [
      "[Parallel(n_jobs=-1)]: Using backend LokyBackend with 8 concurrent workers.\n",
      "[Parallel(n_jobs=-1)]: Done  30 out of  30 | elapsed:    0.8s finished\n",
      "/home/brt/anaconda3/lib/python3.6/site-packages/sklearn/svm/_base.py:947: ConvergenceWarning: Liblinear failed to converge, increase the number of iterations.\n",
      "  \"the number of iterations.\", ConvergenceWarning)\n"
     ]
    },
    {
     "name": "stdout",
     "output_type": "stream",
     "text": [
      "Done \n",
      " \n",
      "\n",
      "training_time(HH:MM:SS.ms) - 0:00:00.927787\n",
      "\n",
      "\n",
      "Predicting test data\n",
      "Done \n",
      " \n",
      "\n",
      "testing time(HH:MM:SS:ms) - 0:00:00.000961\n",
      "\n",
      "\n",
      "---------------------\n",
      "|      Accuracy      |\n",
      "---------------------\n",
      "\n",
      "    0.7619469026548673\n",
      "\n",
      "\n",
      "--------------------\n",
      "| Confusion Matrix |\n",
      "--------------------\n",
      "\n",
      " [[567 142]\n",
      " [127 294]]\n",
      "Normalized confusion matrix\n",
      "[[0.79971791 0.20028209]\n",
      " [0.30166271 0.69833729]]\n"
     ]
    },
    {
     "data": {
      "image/png": "[encoded data removed]",
      "text/plain": [
       "<Figure size 576x576 with 1 Axes>"
      ]
     },
     "metadata": {},
     "output_type": "display_data"
    },
    {
     "data": {
      "image/png": "[encoded data removed]",
      "text/plain": [
       "<Figure size 576x576 with 2 Axes>"
      ]
     },
     "metadata": {},
     "output_type": "display_data"
    },
    {
     "name": "stdout",
     "output_type": "stream",
     "text": [
      "-------------------------\n",
      "| Classification Report |\n",
      "-------------------------\n",
      "              precision    recall  f1-score   support\n",
      "\n",
      "           0       0.82      0.80      0.81       709\n",
      "           1       0.67      0.70      0.69       421\n",
      "\n",
      "    accuracy                           0.76      1130\n",
      "   macro avg       0.75      0.75      0.75      1130\n",
      "weighted avg       0.76      0.76      0.76      1130\n",
      "\n"
     ]
    }
   ],
   "source": [
    "from sklearn.svm import LinearSVC\n",
    "\n",
    "\n",
    "parameters = {'C':[0.125, 0.5, 1, 2, 8, 16]}\n",
    "lr_svc = LinearSVC(tol=0.00005)\n",
    "lr_svc_grid = GridSearchCV(lr_svc, param_grid=parameters, n_jobs=-1, verbose=1)\n",
    "lr_svc_grid_results = perform_model(lr_svc_grid, X_train_miss, y_train_miss, X_test, y_test, class_labels=labels)"
   ]
  },
  {
   "cell_type": "code",
   "execution_count": 127,
   "metadata": {},
   "outputs": [
    {
     "name": "stdout",
     "output_type": "stream",
     "text": [
      "--------------------------\n",
      "|      Best Estimator     |\n",
      "--------------------------\n",
      "\n",
      "\tLinearSVC(C=0.5, class_weight=None, dual=True, fit_intercept=True,\n",
      "          intercept_scaling=1, loss='squared_hinge', max_iter=1000,\n",
      "          multi_class='ovr', penalty='l2', random_state=None, tol=5e-05,\n",
      "          verbose=0)\n",
      "\n",
      "--------------------------\n",
      "|     Best parameters     |\n",
      "--------------------------\n",
      "\tParameters of best estimator : \n",
      "\n",
      "\t{'C': 0.5}\n",
      "\n",
      "---------------------------------\n",
      "|   No of CrossValidation sets   |\n",
      "--------------------------------\n",
      "\n",
      "\tTotal numbre of cross validation sets: 5\n",
      "\n",
      "--------------------------\n",
      "|        Best Score       |\n",
      "--------------------------\n",
      "\n",
      "\tAverage Cross Validate scores of best estimator : \n",
      "\n",
      "\t0.7453608930405116\n",
      "\n"
     ]
    }
   ],
   "source": [
    "print_grid_search_attributes(lr_svc_grid_results['model'])"
   ]
  },
  {
   "cell_type": "code",
   "execution_count": 128,
   "metadata": {},
   "outputs": [
    {
     "name": "stderr",
     "output_type": "stream",
     "text": [
      "/home/brt/anaconda3/lib/python3.6/site-packages/sklearn/svm/_base.py:947: ConvergenceWarning: Liblinear failed to converge, increase the number of iterations.\n",
      "  \"the number of iterations.\", ConvergenceWarning)\n"
     ]
    }
   ],
   "source": [
    "# train the Linear SVC model on best parameters\n",
    "\n",
    "lr_svc_model = LinearSVC(C=0.5, class_weight=None, dual=True, fit_intercept=True,\n",
    "          intercept_scaling=1, loss='squared_hinge', max_iter=1000,\n",
    "          multi_class='ovr', penalty='l2', random_state=None, tol=5e-05,\n",
    "          verbose=0) \n",
    "lr_svc_model.fit(X_train_miss, y_train_miss.ravel()) \n",
    "\n",
    "# Actual class predictions\n",
    "lr_svc_predictions = lr_model.predict(X_test) \n",
    "\n",
    "# Probabilities for each class\n",
    "lr_svc_probs = lr_model.predict_proba(X_test)[:, 1]\n",
    "\n",
    "\n",
    "\n"
   ]
  },
  {
   "cell_type": "code",
   "execution_count": 129,
   "metadata": {},
   "outputs": [
    {
     "data": {
      "image/png": "[encoded data removed]",
      "text/plain": [
       "<Figure size 432x288 with 1 Axes>"
      ]
     },
     "metadata": {},
     "output_type": "display_data"
    }
   ],
   "source": [
    "import sklearn.metrics as metrics\n",
    "# calculate the fpr and tpr for all thresholds of the classification\n",
    "fpr, tpr, threshold = metrics.roc_curve(y_test, lr_svc_probs)\n",
    "roc_auc = metrics.auc(fpr, tpr)\n",
    "\n",
    "# method I: plt\n",
    "import matplotlib.pyplot as plt\n",
    "plt.title('Receiver Operating Characteristic')\n",
    "plt.plot(fpr, tpr, 'b', label = 'AUC = %0.2f' % roc_auc)\n",
    "plt.legend(loc = 'lower right')\n",
    "plt.plot([0, 1], [0, 1],'r--')\n",
    "plt.xlim([0, 1])\n",
    "plt.ylim([0, 1])\n",
    "plt.ylabel('True Positive Rate')\n",
    "plt.xlabel('False Positive Rate')\n",
    "plt.show()"
   ]
  },
  {
   "cell_type": "code",
   "execution_count": 130,
   "metadata": {},
   "outputs": [
    {
     "name": "stdout",
     "output_type": "stream",
     "text": [
      "RoC-AuC Score :  0.86 \n",
      "\n"
     ]
    }
   ],
   "source": [
    "from sklearn.metrics import roc_auc_score\n",
    "\n",
    "# Calculate roc auc\n",
    "roc_value = roc_auc_score(y_test, lr_svc_probs), \n",
    "print(\"RoC-AuC Score : \",float(\"%.2f\" %roc_value[0]), \"\\n\")"
   ]
  },
  {
   "cell_type": "markdown",
   "metadata": {},
   "source": [
    "## Kernel SVM with Grid Search "
   ]
  },
  {
   "cell_type": "code",
   "execution_count": 131,
   "metadata": {},
   "outputs": [
    {
     "name": "stdout",
     "output_type": "stream",
     "text": [
      "training the model..\n",
      "Done \n",
      " \n",
      "\n",
      "training_time(HH:MM:SS.ms) - 0:00:02.171611\n",
      "\n",
      "\n",
      "Predicting test data\n",
      "Done \n",
      " \n",
      "\n",
      "testing time(HH:MM:SS:ms) - 0:00:00.136456\n",
      "\n",
      "\n",
      "---------------------\n",
      "|      Accuracy      |\n",
      "---------------------\n",
      "\n",
      "    0.5991150442477876\n",
      "\n",
      "\n",
      "--------------------\n",
      "| Confusion Matrix |\n",
      "--------------------\n",
      "\n",
      " [[371 338]\n",
      " [115 306]]\n",
      "Normalized confusion matrix\n",
      "[[0.52327221 0.47672779]\n",
      " [0.27315914 0.72684086]]\n"
     ]
    },
    {
     "data": {
      "image/png": "[encoded data removed]",
      "text/plain": [
       "<Figure size 576x576 with 1 Axes>"
      ]
     },
     "metadata": {},
     "output_type": "display_data"
    },
    {
     "data": {
      "image/png": "[encoded data removed]",
      "text/plain": [
       "<Figure size 576x576 with 2 Axes>"
      ]
     },
     "metadata": {},
     "output_type": "display_data"
    },
    {
     "name": "stdout",
     "output_type": "stream",
     "text": [
      "-------------------------\n",
      "| Classification Report |\n",
      "-------------------------\n",
      "              precision    recall  f1-score   support\n",
      "\n",
      "           0       0.76      0.52      0.62       709\n",
      "           1       0.48      0.73      0.57       421\n",
      "\n",
      "    accuracy                           0.60      1130\n",
      "   macro avg       0.62      0.63      0.60      1130\n",
      "weighted avg       0.66      0.60      0.60      1130\n",
      "\n"
     ]
    }
   ],
   "source": [
    "from sklearn.svm import SVC\n",
    "parameters = {'C':[2,8,16],\\\n",
    "              'gamma': [ 0.0078125, 0.125, 2]}\n",
    "rbf_svm = SVC(kernel='rbf')\n",
    "rbf_svm_grid = GridSearchCV(rbf_svm,param_grid=parameters, n_jobs=-1)\n",
    "rbf_svm_grid_results = perform_model(rbf_svm_grid, X_train_miss, y_train_miss, X_test, y_test, class_labels=labels)"
   ]
  },
  {
   "cell_type": "code",
   "execution_count": 132,
   "metadata": {},
   "outputs": [
    {
     "name": "stdout",
     "output_type": "stream",
     "text": [
      "--------------------------\n",
      "|      Best Estimator     |\n",
      "--------------------------\n",
      "\n",
      "\tSVC(C=8, break_ties=False, cache_size=200, class_weight=None, coef0=0.0,\n",
      "    decision_function_shape='ovr', degree=3, gamma=0.0078125, kernel='rbf',\n",
      "    max_iter=-1, probability=False, random_state=None, shrinking=True,\n",
      "    tol=0.001, verbose=False)\n",
      "\n",
      "--------------------------\n",
      "|     Best parameters     |\n",
      "--------------------------\n",
      "\tParameters of best estimator : \n",
      "\n",
      "\t{'C': 8, 'gamma': 0.0078125}\n",
      "\n",
      "---------------------------------\n",
      "|   No of CrossValidation sets   |\n",
      "--------------------------------\n",
      "\n",
      "\tTotal numbre of cross validation sets: 5\n",
      "\n",
      "--------------------------\n",
      "|        Best Score       |\n",
      "--------------------------\n",
      "\n",
      "\tAverage Cross Validate scores of best estimator : \n",
      "\n",
      "\t0.5651694325747789\n",
      "\n"
     ]
    }
   ],
   "source": [
    "print_grid_search_attributes(rbf_svm_grid_results['model'])"
   ]
  },
  {
   "cell_type": "code",
   "execution_count": 133,
   "metadata": {},
   "outputs": [],
   "source": [
    "# train the Kernel SVM model on best parameters\n",
    "\n",
    "rbf_model = SVC(C=8,break_ties=False, cache_size=200, class_weight=None, coef0=0.0,\n",
    "    decision_function_shape='ovr', degree=3, gamma=0.0078125, kernel='rbf',\n",
    "    max_iter=-1, probability=True, random_state=None, shrinking=True,\n",
    "    tol=0.001, verbose=False) \n",
    "rbf_model.fit(X_train_miss, y_train_miss.ravel()) \n",
    "\n",
    "# Actual class predictions\n",
    "rbf_predictions = rbf_model.predict(X_test) \n",
    "\n",
    "# Probabilities for each class\n",
    "rbf_probs = rbf_model.predict_proba(X_test)[:, 1]\n"
   ]
  },
  {
   "cell_type": "code",
   "execution_count": 134,
   "metadata": {},
   "outputs": [
    {
     "data": {
      "image/png": "[encoded data removed]",
      "text/plain": [
       "<Figure size 432x288 with 1 Axes>"
      ]
     },
     "metadata": {},
     "output_type": "display_data"
    }
   ],
   "source": [
    "import sklearn.metrics as metrics\n",
    "# calculate the fpr and tpr for all thresholds of the classification\n",
    "fpr, tpr, threshold = metrics.roc_curve(y_test, rbf_probs)\n",
    "roc_auc = metrics.auc(fpr, tpr)\n",
    "\n",
    "# method I: plt\n",
    "import matplotlib.pyplot as plt\n",
    "plt.title('Receiver Operating Characteristic')\n",
    "plt.plot(fpr, tpr, 'b', label = 'AUC = %0.2f' % roc_auc)\n",
    "plt.legend(loc = 'lower right')\n",
    "plt.plot([0, 1], [0, 1],'r--')\n",
    "plt.xlim([0, 1])\n",
    "plt.ylim([0, 1])\n",
    "plt.ylabel('True Positive Rate')\n",
    "plt.xlabel('False Positive Rate')\n",
    "plt.show()"
   ]
  },
  {
   "cell_type": "code",
   "execution_count": 135,
   "metadata": {},
   "outputs": [
    {
     "name": "stdout",
     "output_type": "stream",
     "text": [
      "RoC-AuC Score :  0.66 \n",
      "\n"
     ]
    }
   ],
   "source": [
    "from sklearn.metrics import roc_auc_score\n",
    "\n",
    "# Calculate roc auc\n",
    "roc_value = roc_auc_score(y_test, rbf_probs), \n",
    "print(\"RoC-AuC Score : \",float(\"%.2f\" %roc_value[0]), \"\\n\")"
   ]
  },
  {
   "cell_type": "markdown",
   "metadata": {},
   "source": [
    "## Decision Tree with Grid Search"
   ]
  },
  {
   "cell_type": "code",
   "execution_count": 136,
   "metadata": {},
   "outputs": [
    {
     "name": "stdout",
     "output_type": "stream",
     "text": [
      "training the model..\n",
      "Done \n",
      " \n",
      "\n",
      "training_time(HH:MM:SS.ms) - 0:00:00.150914\n",
      "\n",
      "\n",
      "Predicting test data\n",
      "Done \n",
      " \n",
      "\n",
      "testing time(HH:MM:SS:ms) - 0:00:00.001116\n",
      "\n",
      "\n",
      "---------------------\n",
      "|      Accuracy      |\n",
      "---------------------\n",
      "\n",
      "    0.7592920353982301\n",
      "\n",
      "\n",
      "--------------------\n",
      "| Confusion Matrix |\n",
      "--------------------\n",
      "\n",
      " [[569 140]\n",
      " [132 289]]\n",
      "Normalized confusion matrix\n",
      "[[0.80253879 0.19746121]\n",
      " [0.31353919 0.68646081]]\n"
     ]
    },
    {
     "data": {
      "image/png": "[encoded data removed]",
      "text/plain": [
       "<Figure size 576x576 with 1 Axes>"
      ]
     },
     "metadata": {},
     "output_type": "display_data"
    },
    {
     "data": {
      "image/png": "[encoded data removed]",
      "text/plain": [
       "<Figure size 576x576 with 2 Axes>"
      ]
     },
     "metadata": {},
     "output_type": "display_data"
    },
    {
     "name": "stdout",
     "output_type": "stream",
     "text": [
      "-------------------------\n",
      "| Classification Report |\n",
      "-------------------------\n",
      "              precision    recall  f1-score   support\n",
      "\n",
      "           0       0.81      0.80      0.81       709\n",
      "           1       0.67      0.69      0.68       421\n",
      "\n",
      "    accuracy                           0.76      1130\n",
      "   macro avg       0.74      0.74      0.74      1130\n",
      "weighted avg       0.76      0.76      0.76      1130\n",
      "\n"
     ]
    }
   ],
   "source": [
    "from sklearn.tree import DecisionTreeClassifier\n",
    "parameters = {'max_depth':np.arange(3,10,2)}\n",
    "dt = DecisionTreeClassifier()\n",
    "dt_grid = GridSearchCV(dt,param_grid=parameters, n_jobs=-1)\n",
    "dt_grid_results = perform_model(dt_grid, X_train_miss, y_train_miss, X_test, y_test, class_labels=labels)\n"
   ]
  },
  {
   "cell_type": "code",
   "execution_count": 137,
   "metadata": {},
   "outputs": [
    {
     "name": "stdout",
     "output_type": "stream",
     "text": [
      "--------------------------\n",
      "|      Best Estimator     |\n",
      "--------------------------\n",
      "\n",
      "\tDecisionTreeClassifier(ccp_alpha=0.0, class_weight=None, criterion='gini',\n",
      "                       max_depth=5, max_features=None, max_leaf_nodes=None,\n",
      "                       min_impurity_decrease=0.0, min_impurity_split=None,\n",
      "                       min_samples_leaf=1, min_samples_split=2,\n",
      "                       min_weight_fraction_leaf=0.0, presort='deprecated',\n",
      "                       random_state=None, splitter='best')\n",
      "\n",
      "--------------------------\n",
      "|     Best parameters     |\n",
      "--------------------------\n",
      "\tParameters of best estimator : \n",
      "\n",
      "\t{'max_depth': 5}\n",
      "\n",
      "---------------------------------\n",
      "|   No of CrossValidation sets   |\n",
      "--------------------------------\n",
      "\n",
      "\tTotal numbre of cross validation sets: 5\n",
      "\n",
      "--------------------------\n",
      "|        Best Score       |\n",
      "--------------------------\n",
      "\n",
      "\tAverage Cross Validate scores of best estimator : \n",
      "\n",
      "\t0.7776408625658352\n",
      "\n"
     ]
    }
   ],
   "source": [
    "print_grid_search_attributes(dt_grid_results['model'])"
   ]
  },
  {
   "cell_type": "code",
   "execution_count": 138,
   "metadata": {},
   "outputs": [],
   "source": [
    "# train the Decision Tree model on best parameters\n",
    "\n",
    "dt_model = DecisionTreeClassifier(ccp_alpha=0.0, class_weight=None, criterion='gini',\n",
    "                       max_depth=5, max_features=None, max_leaf_nodes=None,\n",
    "                       min_impurity_decrease=0.0, min_impurity_split=None,\n",
    "                       min_samples_leaf=1, min_samples_split=2,\n",
    "                       min_weight_fraction_leaf=0.0, presort='deprecated',\n",
    "                       random_state=None, splitter='best') \n",
    "dt_model.fit(X_train_miss, y_train_miss.ravel()) \n",
    "\n",
    "\n",
    "# Actual class predictions\n",
    "dt_predictions = dt_model.predict(X_test) \n",
    "\n",
    "# Probabilities for each class\n",
    "dt_probs = dt_model.predict_proba(X_test)[:, 1]\n"
   ]
  },
  {
   "cell_type": "code",
   "execution_count": 139,
   "metadata": {},
   "outputs": [
    {
     "data": {
      "image/png": "[encoded data removed]",
      "text/plain": [
       "<Figure size 432x288 with 1 Axes>"
      ]
     },
     "metadata": {},
     "output_type": "display_data"
    }
   ],
   "source": [
    "import sklearn.metrics as metrics\n",
    "# calculate the fpr and tpr for all thresholds of the classification\n",
    "fpr, tpr, threshold = metrics.roc_curve(y_test, dt_probs)\n",
    "roc_auc = metrics.auc(fpr, tpr)\n",
    "\n",
    "# method I: plt\n",
    "import matplotlib.pyplot as plt\n",
    "plt.title('Receiver Operating Characteristic')\n",
    "plt.plot(fpr, tpr, 'b', label = 'AUC = %0.2f' % roc_auc)\n",
    "plt.legend(loc = 'lower right')\n",
    "plt.plot([0, 1], [0, 1],'r--')\n",
    "plt.xlim([0, 1])\n",
    "plt.ylim([0, 1])\n",
    "plt.ylabel('True Positive Rate')\n",
    "plt.xlabel('False Positive Rate')\n",
    "plt.show()"
   ]
  },
  {
   "cell_type": "code",
   "execution_count": 140,
   "metadata": {},
   "outputs": [
    {
     "name": "stdout",
     "output_type": "stream",
     "text": [
      "RoC-AuC Score :  0.8 \n",
      "\n"
     ]
    }
   ],
   "source": [
    "from sklearn.metrics import roc_auc_score\n",
    "\n",
    "# Calculate roc auc\n",
    "roc_value = roc_auc_score(y_test, dt_probs), \n",
    "print(\"RoC-AuC Score : \",float(\"%.2f\" %roc_value[0]), \"\\n\")"
   ]
  },
  {
   "cell_type": "markdown",
   "metadata": {},
   "source": [
    "## Random Forest Model with Grid Search "
   ]
  },
  {
   "cell_type": "code",
   "execution_count": 141,
   "metadata": {},
   "outputs": [
    {
     "name": "stdout",
     "output_type": "stream",
     "text": [
      "training the model..\n",
      "Done \n",
      " \n",
      "\n",
      "training_time(HH:MM:SS.ms) - 0:00:08.567508\n",
      "\n",
      "\n",
      "Predicting test data\n",
      "Done \n",
      " \n",
      "\n",
      "testing time(HH:MM:SS:ms) - 0:00:00.017821\n",
      "\n",
      "\n",
      "---------------------\n",
      "|      Accuracy      |\n",
      "---------------------\n",
      "\n",
      "    0.7955752212389381\n",
      "\n",
      "\n",
      "--------------------\n",
      "| Confusion Matrix |\n",
      "--------------------\n",
      "\n",
      " [[574 135]\n",
      " [ 96 325]]\n",
      "Normalized confusion matrix\n",
      "[[0.80959097 0.19040903]\n",
      " [0.2280285  0.7719715 ]]\n"
     ]
    },
    {
     "data": {
      "image/png": "[encoded data removed]",
      "text/plain": [
       "<Figure size 576x576 with 1 Axes>"
      ]
     },
     "metadata": {},
     "output_type": "display_data"
    },
    {
     "data": {
      "image/png": "[encoded data removed]",
      "text/plain": [
       "<Figure size 576x576 with 2 Axes>"
      ]
     },
     "metadata": {},
     "output_type": "display_data"
    },
    {
     "name": "stdout",
     "output_type": "stream",
     "text": [
      "-------------------------\n",
      "| Classification Report |\n",
      "-------------------------\n",
      "              precision    recall  f1-score   support\n",
      "\n",
      "           0       0.86      0.81      0.83       709\n",
      "           1       0.71      0.77      0.74       421\n",
      "\n",
      "    accuracy                           0.80      1130\n",
      "   macro avg       0.78      0.79      0.79      1130\n",
      "weighted avg       0.80      0.80      0.80      1130\n",
      "\n"
     ]
    }
   ],
   "source": [
    "\n",
    "from sklearn.ensemble import RandomForestClassifier\n",
    "\n",
    "params = {'n_estimators': np.arange(10,201,20), 'max_depth':np.arange(3,15,2)}\n",
    "rfc = RandomForestClassifier()\n",
    "rfc_grid = GridSearchCV(rfc, param_grid=params, n_jobs=-1)\n",
    "rfc_grid_results = perform_model(rfc_grid, X_train_miss, y_train_miss, X_test, y_test, class_labels=labels)\n"
   ]
  },
  {
   "cell_type": "code",
   "execution_count": 142,
   "metadata": {},
   "outputs": [
    {
     "name": "stdout",
     "output_type": "stream",
     "text": [
      "--------------------------\n",
      "|      Best Estimator     |\n",
      "--------------------------\n",
      "\n",
      "\tRandomForestClassifier(bootstrap=True, ccp_alpha=0.0, class_weight=None,\n",
      "                       criterion='gini', max_depth=13, max_features='auto',\n",
      "                       max_leaf_nodes=None, max_samples=None,\n",
      "                       min_impurity_decrease=0.0, min_impurity_split=None,\n",
      "                       min_samples_leaf=1, min_samples_split=2,\n",
      "                       min_weight_fraction_leaf=0.0, n_estimators=90,\n",
      "                       n_jobs=None, oob_score=False, random_state=None,\n",
      "                       verbose=0, warm_start=False)\n",
      "\n",
      "--------------------------\n",
      "|     Best parameters     |\n",
      "--------------------------\n",
      "\tParameters of best estimator : \n",
      "\n",
      "\t{'max_depth': 13, 'n_estimators': 90}\n",
      "\n",
      "---------------------------------\n",
      "|   No of CrossValidation sets   |\n",
      "--------------------------------\n",
      "\n",
      "\tTotal numbre of cross validation sets: 5\n",
      "\n",
      "--------------------------\n",
      "|        Best Score       |\n",
      "--------------------------\n",
      "\n",
      "\tAverage Cross Validate scores of best estimator : \n",
      "\n",
      "\t0.8104789824108118\n",
      "\n"
     ]
    }
   ],
   "source": [
    "print_grid_search_attributes(rfc_grid_results['model'])"
   ]
  },
  {
   "cell_type": "code",
   "execution_count": 143,
   "metadata": {},
   "outputs": [],
   "source": [
    "# train the Random Forest model on best parameters\n",
    "\n",
    "rf_model = RandomForestClassifier(bootstrap=True, ccp_alpha=0.0, class_weight=None,\n",
    "                       criterion='gini', max_depth=11, max_features='auto',\n",
    "                       max_leaf_nodes=None, max_samples=None,\n",
    "                       min_impurity_decrease=0.0, min_impurity_split=None,\n",
    "                       min_samples_leaf=1, min_samples_split=2,\n",
    "                       min_weight_fraction_leaf=0.0, n_estimators=110,\n",
    "                       n_jobs=None, oob_score=False, random_state=None,\n",
    "                       verbose=0, warm_start=False) \n",
    "rf_model.fit(X_train_miss, y_train_miss.ravel()) \n",
    "\n",
    "\n",
    "# Actual class predictions\n",
    "rf_predictions = rf_model.predict(X_test) \n",
    "\n",
    "# Probabilities for each class\n",
    "rf_probs = rf_model.predict_proba(X_test)[:, 1]\n",
    "\n"
   ]
  },
  {
   "cell_type": "code",
   "execution_count": 144,
   "metadata": {},
   "outputs": [
    {
     "data": {
      "image/png": "[encoded data removed]",
      "text/plain": [
       "<Figure size 432x288 with 1 Axes>"
      ]
     },
     "metadata": {},
     "output_type": "display_data"
    }
   ],
   "source": [
    "import sklearn.metrics as metrics\n",
    "# calculate the fpr and tpr for all thresholds of the classification\n",
    "fpr, tpr, threshold = metrics.roc_curve(y_test, rf_probs)\n",
    "roc_auc = metrics.auc(fpr, tpr)\n",
    "\n",
    "# method I: plt\n",
    "import matplotlib.pyplot as plt\n",
    "plt.title('Receiver Operating Characteristic')\n",
    "plt.plot(fpr, tpr, 'b', label = 'AUC = %0.2f' % roc_auc)\n",
    "plt.legend(loc = 'lower right')\n",
    "plt.plot([0, 1], [0, 1],'r--')\n",
    "plt.xlim([0, 1])\n",
    "plt.ylim([0, 1])\n",
    "plt.ylabel('True Positive Rate')\n",
    "plt.xlabel('False Positive Rate')\n",
    "plt.show()"
   ]
  },
  {
   "cell_type": "code",
   "execution_count": 145,
   "metadata": {},
   "outputs": [
    {
     "name": "stdout",
     "output_type": "stream",
     "text": [
      "RoC-AuC Score :  0.87 \n",
      "\n"
     ]
    }
   ],
   "source": [
    "from sklearn.metrics import roc_auc_score\n",
    "\n",
    "# Calculate roc auc\n",
    "roc_value = roc_auc_score(y_test, rf_probs), \n",
    "print(\"RoC-AuC Score : \",float(\"%.2f\" %roc_value[0]), \"\\n\")\n"
   ]
  },
  {
   "cell_type": "code",
   "execution_count": 146,
   "metadata": {},
   "outputs": [
    {
     "name": "stdout",
     "output_type": "stream",
     "text": [
      "                                              feature  importance\n",
      "1                                 Dexa_Freq_During_Rx    0.132566\n",
      "13                                     Dexa_During_Rx    0.097216\n",
      "2                                                Ptid    0.051218\n",
      "31              Comorb_Long_Term_Current_Drug_Therapy    0.048724\n",
      "25  Comorb_Encounter_For_Screening_For_Malignant_N...    0.043516\n",
      "26                  Comorb_Encounter_For_Immunization    0.038293\n",
      "27  Comorb_Encntr_For_General_Exam_W_O_Complaint,_...    0.036183\n",
      "8                                      Ntm_Speciality    0.029972\n",
      "33  Comorb_Personal_History_Of_Other_Diseases_And_...    0.023987\n",
      "6                                              Region    0.020239\n"
     ]
    }
   ],
   "source": [
    "# Feature Importance\n",
    "\n",
    "fi = pd.DataFrame({'feature': list(X_train_miss.columns),\n",
    "                   'importance': rf_model.feature_importances_}).\\\n",
    "                    sort_values('importance', ascending = False)\n",
    "\n",
    "\n",
    "print(fi.head(10))"
   ]
  },
  {
   "cell_type": "markdown",
   "metadata": {},
   "source": [
    "## Gradient Boosting Classifier with Grid Search "
   ]
  },
  {
   "cell_type": "code",
   "execution_count": 147,
   "metadata": {},
   "outputs": [
    {
     "name": "stdout",
     "output_type": "stream",
     "text": [
      "training the model..\n",
      "Done \n",
      " \n",
      "\n",
      "training_time(HH:MM:SS.ms) - 0:00:11.224826\n",
      "\n",
      "\n",
      "Predicting test data\n",
      "Done \n",
      " \n",
      "\n",
      "testing time(HH:MM:SS:ms) - 0:00:00.005302\n",
      "\n",
      "\n",
      "---------------------\n",
      "|      Accuracy      |\n",
      "---------------------\n",
      "\n",
      "    0.7778761061946903\n",
      "\n",
      "\n",
      "--------------------\n",
      "| Confusion Matrix |\n",
      "--------------------\n",
      "\n",
      " [[542 167]\n",
      " [ 84 337]]\n",
      "Normalized confusion matrix\n",
      "[[0.76445698 0.23554302]\n",
      " [0.19952494 0.80047506]]\n"
     ]
    },
    {
     "data": {
      "image/png": "[encoded data removed]",
      "text/plain": [
       "<Figure size 576x576 with 1 Axes>"
      ]
     },
     "metadata": {},
     "output_type": "display_data"
    },
    {
     "data": {
      "image/png": "[encoded data removed]",
      "text/plain": [
       "<Figure size 576x576 with 2 Axes>"
      ]
     },
     "metadata": {},
     "output_type": "display_data"
    },
    {
     "name": "stdout",
     "output_type": "stream",
     "text": [
      "-------------------------\n",
      "| Classification Report |\n",
      "-------------------------\n",
      "              precision    recall  f1-score   support\n",
      "\n",
      "           0       0.87      0.76      0.81       709\n",
      "           1       0.67      0.80      0.73       421\n",
      "\n",
      "    accuracy                           0.78      1130\n",
      "   macro avg       0.77      0.78      0.77      1130\n",
      "weighted avg       0.79      0.78      0.78      1130\n",
      "\n"
     ]
    }
   ],
   "source": [
    "from sklearn.model_selection import GridSearchCV\n",
    "from sklearn.ensemble import GradientBoostingClassifier\n",
    "\n",
    "\n",
    "param_grid = {'max_depth': np.arange(5,8,1), \\\n",
    "             'n_estimators':np.arange(130,170,10)}\n",
    "gbdt = GradientBoostingClassifier()\n",
    "gbdt_grid = GridSearchCV(gbdt, param_grid=param_grid, n_jobs=-1)\n",
    "gbdt_grid_results = perform_model(gbdt_grid, X_train_miss, y_train_miss, X_test, y_test, class_labels=labels)\n"
   ]
  },
  {
   "cell_type": "code",
   "execution_count": 148,
   "metadata": {},
   "outputs": [
    {
     "name": "stdout",
     "output_type": "stream",
     "text": [
      "--------------------------\n",
      "|      Best Estimator     |\n",
      "--------------------------\n",
      "\n",
      "\tGradientBoostingClassifier(ccp_alpha=0.0, criterion='friedman_mse', init=None,\n",
      "                           learning_rate=0.1, loss='deviance', max_depth=5,\n",
      "                           max_features=None, max_leaf_nodes=None,\n",
      "                           min_impurity_decrease=0.0, min_impurity_split=None,\n",
      "                           min_samples_leaf=1, min_samples_split=2,\n",
      "                           min_weight_fraction_leaf=0.0, n_estimators=140,\n",
      "                           n_iter_no_change=None, presort='deprecated',\n",
      "                           random_state=None, subsample=1.0, tol=0.0001,\n",
      "                           validation_fraction=0.1, verbose=0,\n",
      "                           warm_start=False)\n",
      "\n",
      "--------------------------\n",
      "|     Best parameters     |\n",
      "--------------------------\n",
      "\tParameters of best estimator : \n",
      "\n",
      "\t{'max_depth': 5, 'n_estimators': 140}\n",
      "\n",
      "---------------------------------\n",
      "|   No of CrossValidation sets   |\n",
      "--------------------------------\n",
      "\n",
      "\tTotal numbre of cross validation sets: 5\n",
      "\n",
      "--------------------------\n",
      "|        Best Score       |\n",
      "--------------------------\n",
      "\n",
      "\tAverage Cross Validate scores of best estimator : \n",
      "\n",
      "\t0.7949302726158536\n",
      "\n"
     ]
    }
   ],
   "source": [
    "print_grid_search_attributes(gbdt_grid_results['model'])"
   ]
  },
  {
   "cell_type": "code",
   "execution_count": 149,
   "metadata": {},
   "outputs": [],
   "source": [
    "# train the GBDT model on best parameters\n",
    "\n",
    "gbdt_model = GradientBoostingClassifier(ccp_alpha=0.0, criterion='friedman_mse', init=None,\n",
    "                           learning_rate=0.1, loss='deviance', max_depth=6,\n",
    "                           max_features=None, max_leaf_nodes=None,\n",
    "                           min_impurity_decrease=0.0, min_impurity_split=None,\n",
    "                           min_samples_leaf=1, min_samples_split=2,\n",
    "                           min_weight_fraction_leaf=0.0, n_estimators=140,\n",
    "                           n_iter_no_change=None, presort='deprecated',\n",
    "                           random_state=None, subsample=1.0, tol=0.0001,\n",
    "                           validation_fraction=0.1, verbose=0,\n",
    "                           warm_start=False) \n",
    "gbdt_model.fit(X_train_miss, y_train_miss.ravel()) \n",
    "\n",
    "\n",
    "# Actual class predictions\n",
    "gbdt_predictions = gbdt_model.predict(X_test) \n",
    "\n",
    "# Probabilities for each class\n",
    "gbdt_probs = gbdt_model.predict_proba(X_test)[:, 1]\n",
    "\n"
   ]
  },
  {
   "cell_type": "code",
   "execution_count": 150,
   "metadata": {},
   "outputs": [
    {
     "data": {
      "image/png": "[encoded data removed]",
      "text/plain": [
       "<Figure size 432x288 with 1 Axes>"
      ]
     },
     "metadata": {},
     "output_type": "display_data"
    }
   ],
   "source": [
    "import sklearn.metrics as metrics\n",
    "# calculate the fpr and tpr for all thresholds of the classification\n",
    "fpr, tpr, threshold = metrics.roc_curve(y_test, gbdt_probs)\n",
    "roc_auc = metrics.auc(fpr, tpr)\n",
    "\n",
    "# method I: plt\n",
    "import matplotlib.pyplot as plt\n",
    "plt.title('Receiver Operating Characteristic')\n",
    "plt.plot(fpr, tpr, 'b', label = 'AUC = %0.2f' % roc_auc)\n",
    "plt.legend(loc = 'lower right')\n",
    "plt.plot([0, 1], [0, 1],'r--')\n",
    "plt.xlim([0, 1])\n",
    "plt.ylim([0, 1])\n",
    "plt.ylabel('True Positive Rate')\n",
    "plt.xlabel('False Positive Rate')\n",
    "plt.show()"
   ]
  },
  {
   "cell_type": "code",
   "execution_count": 151,
   "metadata": {},
   "outputs": [
    {
     "name": "stdout",
     "output_type": "stream",
     "text": [
      "RoC-AuC Score :  0.87 \n",
      "\n"
     ]
    }
   ],
   "source": [
    "from sklearn.metrics import roc_auc_score\n",
    "\n",
    "# Calculate roc auc\n",
    "roc_value = roc_auc_score(y_test, gbdt_probs), \n",
    "print(\"RoC-AuC Score : \",float(\"%.2f\" %roc_value[0]), \"\\n\")\n"
   ]
  },
  {
   "cell_type": "markdown",
   "metadata": {},
   "source": [
    "# Comparing all models"
   ]
  },
  {
   "cell_type": "code",
   "execution_count": 152,
   "metadata": {},
   "outputs": [
    {
     "name": "stdout",
     "output_type": "stream",
     "text": [
      "\n",
      "                     Accuracy     Error\n",
      "                     ----------   --------\n",
      "Logistic Regression : 77.88%       22.12%\n",
      "Linear SVC          : 76.19%       23.81% \n",
      "rbf SVM classifier  : 59.91%      40.09% \n",
      "DecisionTree        : 75.93%      24.07% \n",
      "Random Forest       : 79.56%      20.44% \n",
      "GradientBoosting DT : 77.79%      22.21% \n"
     ]
    }
   ],
   "source": [
    "print('\\n                     Accuracy     Error')\n",
    "print('                     ----------   --------')\n",
    "print('Logistic Regression : {:.04}%       {:.04}%'.format(log_reg_grid_results['accuracy'] * 100,\\\n",
    "                                                  100-(log_reg_grid_results['accuracy'] * 100)))\n",
    "\n",
    "print('Linear SVC          : {:.04}%       {:.04}% '.format(lr_svc_grid_results['accuracy'] * 100,\\\n",
    "                                                        100-(lr_svc_grid_results['accuracy'] * 100)))\n",
    "\n",
    "print('rbf SVM classifier  : {:.04}%      {:.04}% '.format(rbf_svm_grid_results['accuracy'] * 100,\\\n",
    "                                                          100-(rbf_svm_grid_results['accuracy'] * 100)))\n",
    "\n",
    "print('DecisionTree        : {:.04}%      {:.04}% '.format(dt_grid_results['accuracy'] * 100,\\\n",
    "                                                        100-(dt_grid_results['accuracy'] * 100)))\n",
    "\n",
    "print('Random Forest       : {:.04}%      {:.04}% '.format(rfc_grid_results['accuracy'] * 100,\\\n",
    "                                                           100-(rfc_grid_results['accuracy'] * 100)))\n",
    "print('GradientBoosting DT : {:.04}%      {:.04}% '.format(gbdt_grid_results['accuracy'] * 100,\\\n",
    "                                                        100-(gbdt_grid_results['accuracy'] * 100)))"
   ]
  },
  {
   "cell_type": "markdown",
   "metadata": {},
   "source": [
    "# Conclusion\n",
    "\n",
    "\n",
    "Random Forest Model is giving best performance than other model while Linear SVC is worst performer among all.\n",
    "\n",
    "\n",
    "\n",
    "### Random Forest Results\n",
    "\n",
    "- **Accuracy**: 80 %\n",
    "- **AuC-RoC Score**: 0.87\n",
    "- ** Weighted avg F1 Score**: 0.80\n"
   ]
  }
 ],
 "metadata": {
  "kernelspec": {
   "display_name": "Python 3",
   "language": "python",
   "name": "python3"
  },
  "language_info": {
   "codemirror_mode": {
    "name": "ipython",
    "version": 3
   },
   "file_extension": ".py",
   "mimetype": "text/x-python",
   "name": "python",
   "nbconvert_exporter": "python",
   "pygments_lexer": "ipython3",
   "version": "3.6.5"
  }
 },
 "nbformat": 4,
 "nbformat_minor": 2
}
